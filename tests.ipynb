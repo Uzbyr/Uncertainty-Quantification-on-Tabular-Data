{
 "cells": [
  {
   "cell_type": "code",
   "execution_count": 5,
   "id": "ca350ead",
   "metadata": {},
   "outputs": [],
   "source": [
    "import warnings\n",
    "import torch\n",
    "import numpy as np\n",
    "import pandas as pd\n",
    "\n",
    "from skrub import TableVectorizer\n",
    "from sklearn.datasets import fetch_openml\n",
    "from mapie.utils import train_conformalize_test_split\n",
    "\n",
    "from pandas.errors import SettingWithCopyWarning\n",
    "\n",
    "warnings.simplefilter(action=\"ignore\", category=SettingWithCopyWarning)"
   ]
  },
  {
   "cell_type": "code",
   "execution_count": 13,
   "id": "482d61b9",
   "metadata": {},
   "outputs": [],
   "source": [
    "df = fetch_openml(data_id=372, as_frame='auto') # 42178, 188\n",
    "X = df.data\n",
    "\n",
    "from scipy.sparse import csr_matrix\n",
    "if isinstance(X, csr_matrix):\n",
    "    print(\"Converting sparse matrix to dense DataFrame \" + str(X.shape))\n",
    "    X = pd.DataFrame(X.toarray(), columns=df.feature_names)\n",
    "\n",
    "cols_to_drop = X.columns[X.nunique() <= 1]\n",
    "if not cols_to_drop.empty:\n",
    "    X = X.drop(columns=cols_to_drop)\n",
    "\n",
    "float64_cols = X.select_dtypes(np.float64).columns\n",
    "X[float64_cols] = X[float64_cols].astype(np.float32)\n",
    "\n",
    "if df.target.dtype.name == 'category':\n",
    "    y = df.target.cat.codes.to_numpy()\n",
    "else:\n",
    "    y = pd.factorize(df.target)[0]\n",
    "\n",
    "X_train, X_conformalize, X_test, y_train, y_conformalize, y_test = train_conformalize_test_split(\n",
    "    X, y, train_size=0.4, conformalize_size=0.4, test_size=0.2,# random_state=382114703,\n",
    ")\n",
    "\n",
    "vectorizer = TableVectorizer(drop_if_constant=True)\n",
    "X_train = vectorizer.fit_transform(X_train)\n",
    "X_conformalize = vectorizer.transform(X_conformalize)\n",
    "X_test = vectorizer.transform(X_test)\n",
    "# np.unique(y, return_counts=True)"
   ]
  },
  {
   "cell_type": "code",
   "execution_count": 14,
   "id": "cb43b471",
   "metadata": {},
   "outputs": [
    {
     "data": {
      "text/plain": [
       "(array([ 0,  1,  2,  3,  4,  5,  6,  7,  8,  9, 10, 11, 12, 13, 14, 15, 16,\n",
       "        17, 18, 19, 20, 21, 22, 23, 24, 25, 26, 27, 28, 29, 30, 31, 32, 33,\n",
       "        34, 35, 36, 37, 38, 39, 40, 41, 42, 43, 44, 45], dtype=int8),\n",
       " array([ 0,  1,  2,  3,  4,  5,  6,  7,  8,  9, 10, 11, 12, 13, 14, 15, 16,\n",
       "        17, 18, 19, 20, 21, 22, 23, 24, 25, 26, 27, 28, 29, 30, 31, 32, 33,\n",
       "        34, 35, 36, 37, 38, 39, 40, 41, 42, 43, 44, 45], dtype=int8),\n",
       " array([ 0,  1,  2,  3,  4,  5,  6,  7,  8,  9, 10, 11, 12, 13, 14, 15, 16,\n",
       "        17, 18, 19, 20, 21, 22, 23, 24, 25, 26, 27, 28, 29, 30, 31, 32, 33,\n",
       "        34, 35, 36, 37, 38, 39, 40, 41, 42, 43, 44, 45], dtype=int8),\n",
       " array([ 0,  1,  2,  3,  4,  5,  6,  7,  8,  9, 10, 11, 12, 13, 14, 15, 16,\n",
       "        17, 18, 19, 20, 21, 22, 23, 24, 25, 26, 27, 28, 29, 30, 31, 32, 33,\n",
       "        34, 35, 36, 37, 38, 39, 40, 41, 42, 43, 44, 45], dtype=int8))"
      ]
     },
     "execution_count": 14,
     "metadata": {},
     "output_type": "execute_result"
    }
   ],
   "source": [
    "np.unique(y), np.unique(y_train), np.unique(y_conformalize), np.unique(y_test)"
   ]
  },
  {
   "cell_type": "code",
   "execution_count": 12,
   "id": "7c73354a",
   "metadata": {},
   "outputs": [
    {
     "data": {
      "text/plain": [
       "(array([ 0,  1,  2,  3,  4,  5,  6,  7,  8,  9, 10, 11, 12, 13, 14, 15, 16,\n",
       "        17, 18, 19, 20, 21, 22, 23, 24, 25, 26, 27, 28, 29, 30, 31, 32, 33,\n",
       "        34, 35, 36, 37, 38, 39, 40, 41, 42, 43, 44, 45], dtype=int8),\n",
       " array([ 0,  1,  2,  3,  4,  5,  6,  7,  8,  9, 10, 11, 12, 13, 14, 15, 16,\n",
       "        17, 18, 19, 20, 21, 22, 23, 24, 25, 26, 27, 28, 29, 30, 31, 32, 33,\n",
       "        34, 35, 36, 37, 38, 39, 40, 41, 42, 43, 44, 45], dtype=int8),\n",
       " array([ 0,  1,  2,  3,  4,  5,  6,  7,  8,  9, 10, 11, 12, 13, 14, 15, 16,\n",
       "        17, 18, 19, 20, 21, 22, 23, 24, 25, 26, 27, 28, 29, 30, 31, 32, 33,\n",
       "        34, 35, 36, 37, 38, 39, 40, 41, 42, 43, 44, 45], dtype=int8),\n",
       " array([ 0,  1,  2,  4,  5,  6,  7,  8,  9, 10, 11, 12, 13, 14, 15, 16, 17,\n",
       "        18, 19, 20, 21, 22, 23, 24, 25, 26, 27, 28, 29, 30, 31, 32, 33, 34,\n",
       "        35, 36, 37, 39, 40, 41, 42, 43, 44, 45], dtype=int8))"
      ]
     },
     "execution_count": 12,
     "metadata": {},
     "output_type": "execute_result"
    }
   ],
   "source": [
    "np.unique(y), np.unique(y_train), np.unique(y_conformalize), np.unique(y_test)"
   ]
  },
  {
   "cell_type": "code",
   "execution_count": 46,
   "id": "f27c8ed4",
   "metadata": {},
   "outputs": [
    {
     "ename": "AttributeError",
     "evalue": "'numpy.ndarray' object has no attribute 'to_numpy'",
     "output_type": "error",
     "traceback": [
      "\u001b[0;31m---------------------------------------------------------------------------\u001b[0m",
      "\u001b[0;31mAttributeError\u001b[0m                            Traceback (most recent call last)",
      "Cell \u001b[0;32mIn[46], line 2\u001b[0m\n\u001b[1;32m      1\u001b[0m \u001b[38;5;66;03m# get the unique values in each column of X_train\u001b[39;00m\n\u001b[0;32m----> 2\u001b[0m X_train \u001b[38;5;241m=\u001b[39m \u001b[43mX_train\u001b[49m\u001b[38;5;241;43m.\u001b[39;49m\u001b[43mto_numpy\u001b[49m()\n\u001b[1;32m      3\u001b[0m unique_values \u001b[38;5;241m=\u001b[39m [np\u001b[38;5;241m.\u001b[39munique(X_train[:, col]) \u001b[38;5;28;01mfor\u001b[39;00m col \u001b[38;5;129;01min\u001b[39;00m \u001b[38;5;28mrange\u001b[39m(X_train\u001b[38;5;241m.\u001b[39mshape[\u001b[38;5;241m1\u001b[39m])]\n",
      "\u001b[0;31mAttributeError\u001b[0m: 'numpy.ndarray' object has no attribute 'to_numpy'"
     ]
    }
   ],
   "source": [
    "# get the unique values in each column of X_train\n",
    "X_train = X_train.to_numpy()\n",
    "unique_values = [np.unique(X_train[:, col]) for col in range(X_train.shape[1])]"
   ]
  },
  {
   "cell_type": "code",
   "execution_count": 47,
   "id": "767f1b5c",
   "metadata": {},
   "outputs": [
    {
     "data": {
      "image/png": "[encoded data removed]",
      "text/plain": [
       "<Figure size 640x480 with 1 Axes>"
      ]
     },
     "metadata": {},
     "output_type": "display_data"
    }
   ],
   "source": [
    "#histogram of the lengths of unique values\n",
    "lengths = [len(u) for u in unique_values]\n",
    "import matplotlib.pyplot as plt\n",
    "plt.hist(lengths, bins=30)\n",
    "plt.yscale('log')\n",
    "plt.xlabel('Number of unique values in column')\n",
    "plt.ylabel('Number of columns')\n",
    "plt.title('Histogram of unique values per column in X_train')\n",
    "plt.show()"
   ]
  },
  {
   "cell_type": "code",
   "execution_count": 49,
   "id": "887e1d70",
   "metadata": {},
   "outputs": [
    {
     "ename": "ValueError",
     "evalue": "1 is not in list",
     "output_type": "error",
     "traceback": [
      "\u001b[0;31m---------------------------------------------------------------------------\u001b[0m",
      "\u001b[0;31mValueError\u001b[0m                                Traceback (most recent call last)",
      "Cell \u001b[0;32mIn[49], line 1\u001b[0m\n\u001b[0;32m----> 1\u001b[0m idx \u001b[38;5;241m=\u001b[39m \u001b[43mlengths\u001b[49m\u001b[38;5;241;43m.\u001b[39;49m\u001b[43mindex\u001b[49m\u001b[43m(\u001b[49m\u001b[38;5;241;43m1\u001b[39;49m\u001b[43m)\u001b[49m\n\u001b[1;32m      2\u001b[0m unique_values[idx]\n",
      "\u001b[0;31mValueError\u001b[0m: 1 is not in list"
     ]
    }
   ],
   "source": [
    "idx = lengths.index(1)\n",
    "unique_values[idx]"
   ]
  },
  {
   "cell_type": "code",
   "execution_count": 2,
   "id": "db2bec4d",
   "metadata": {},
   "outputs": [
    {
     "data": {
      "text/html": [
       "<div>\n",
       "<style scoped>\n",
       "    .dataframe tbody tr th:only-of-type {\n",
       "        vertical-align: middle;\n",
       "    }\n",
       "\n",
       "    .dataframe tbody tr th {\n",
       "        vertical-align: top;\n",
       "    }\n",
       "\n",
       "    .dataframe thead th {\n",
       "        text-align: right;\n",
       "    }\n",
       "</style>\n",
       "<table border=\"1\" class=\"dataframe\">\n",
       "  <thead>\n",
       "    <tr style=\"text-align: right;\">\n",
       "      <th></th>\n",
       "      <th>dataset_id</th>\n",
       "      <th>model</th>\n",
       "      <th>accuracy_mean</th>\n",
       "      <th>accuracy_std</th>\n",
       "      <th>f1_score_mean</th>\n",
       "      <th>f1_score_std</th>\n",
       "      <th>cr_mean</th>\n",
       "      <th>cr_std</th>\n",
       "      <th>mwc_mean</th>\n",
       "      <th>mwc_std</th>\n",
       "      <th>sscs_mean</th>\n",
       "      <th>sscs_std</th>\n",
       "    </tr>\n",
       "  </thead>\n",
       "  <tbody>\n",
       "    <tr>\n",
       "      <th>0</th>\n",
       "      <td>3</td>\n",
       "      <td>CatBoost</td>\n",
       "      <td>0.991797</td>\n",
       "      <td>0.003434</td>\n",
       "      <td>0.991798</td>\n",
       "      <td>0.003433</td>\n",
       "      <td>0.902891</td>\n",
       "      <td>0.016484</td>\n",
       "      <td>0.904453</td>\n",
       "      <td>0.016216</td>\n",
       "      <td>0.000000</td>\n",
       "      <td>0.000000</td>\n",
       "    </tr>\n",
       "    <tr>\n",
       "      <th>1</th>\n",
       "      <td>3</td>\n",
       "      <td>LightGBM</td>\n",
       "      <td>0.992969</td>\n",
       "      <td>0.003494</td>\n",
       "      <td>0.992969</td>\n",
       "      <td>0.003494</td>\n",
       "      <td>0.899062</td>\n",
       "      <td>0.018698</td>\n",
       "      <td>0.900469</td>\n",
       "      <td>0.018572</td>\n",
       "      <td>0.000000</td>\n",
       "      <td>0.000000</td>\n",
       "    </tr>\n",
       "    <tr>\n",
       "      <th>2</th>\n",
       "      <td>3</td>\n",
       "      <td>LogisticRegression</td>\n",
       "      <td>0.957031</td>\n",
       "      <td>0.008135</td>\n",
       "      <td>0.957024</td>\n",
       "      <td>0.008140</td>\n",
       "      <td>0.899375</td>\n",
       "      <td>0.015808</td>\n",
       "      <td>0.913672</td>\n",
       "      <td>0.016682</td>\n",
       "      <td>0.000000</td>\n",
       "      <td>0.000000</td>\n",
       "    </tr>\n",
       "    <tr>\n",
       "      <th>3</th>\n",
       "      <td>3</td>\n",
       "      <td>TabICL</td>\n",
       "      <td>0.993984</td>\n",
       "      <td>0.003257</td>\n",
       "      <td>0.993984</td>\n",
       "      <td>0.003257</td>\n",
       "      <td>0.901719</td>\n",
       "      <td>0.013507</td>\n",
       "      <td>0.903047</td>\n",
       "      <td>0.013205</td>\n",
       "      <td>0.000000</td>\n",
       "      <td>0.000000</td>\n",
       "    </tr>\n",
       "    <tr>\n",
       "      <th>4</th>\n",
       "      <td>3</td>\n",
       "      <td>TabM</td>\n",
       "      <td>0.993359</td>\n",
       "      <td>0.003120</td>\n",
       "      <td>0.993359</td>\n",
       "      <td>0.003121</td>\n",
       "      <td>0.900938</td>\n",
       "      <td>0.016763</td>\n",
       "      <td>0.902266</td>\n",
       "      <td>0.016547</td>\n",
       "      <td>0.000000</td>\n",
       "      <td>0.000000</td>\n",
       "    </tr>\n",
       "    <tr>\n",
       "      <th>...</th>\n",
       "      <td>...</td>\n",
       "      <td>...</td>\n",
       "      <td>...</td>\n",
       "      <td>...</td>\n",
       "      <td>...</td>\n",
       "      <td>...</td>\n",
       "      <td>...</td>\n",
       "      <td>...</td>\n",
       "      <td>...</td>\n",
       "      <td>...</td>\n",
       "      <td>...</td>\n",
       "      <td>...</td>\n",
       "    </tr>\n",
       "    <tr>\n",
       "      <th>681</th>\n",
       "      <td>45648</td>\n",
       "      <td>LogisticRegression</td>\n",
       "      <td>0.874091</td>\n",
       "      <td>0.017296</td>\n",
       "      <td>0.865761</td>\n",
       "      <td>0.018681</td>\n",
       "      <td>0.900455</td>\n",
       "      <td>0.026984</td>\n",
       "      <td>1.062424</td>\n",
       "      <td>0.038612</td>\n",
       "      <td>0.894557</td>\n",
       "      <td>0.025066</td>\n",
       "    </tr>\n",
       "    <tr>\n",
       "      <th>682</th>\n",
       "      <td>45648</td>\n",
       "      <td>TabICL</td>\n",
       "      <td>0.883485</td>\n",
       "      <td>0.015898</td>\n",
       "      <td>0.866966</td>\n",
       "      <td>0.019943</td>\n",
       "      <td>0.905303</td>\n",
       "      <td>0.023055</td>\n",
       "      <td>1.055303</td>\n",
       "      <td>0.032576</td>\n",
       "      <td>0.900304</td>\n",
       "      <td>0.021533</td>\n",
       "    </tr>\n",
       "    <tr>\n",
       "      <th>683</th>\n",
       "      <td>45648</td>\n",
       "      <td>TabM</td>\n",
       "      <td>0.883788</td>\n",
       "      <td>0.015892</td>\n",
       "      <td>0.867345</td>\n",
       "      <td>0.020524</td>\n",
       "      <td>0.903485</td>\n",
       "      <td>0.028072</td>\n",
       "      <td>1.043182</td>\n",
       "      <td>0.035623</td>\n",
       "      <td>0.813672</td>\n",
       "      <td>0.279122</td>\n",
       "    </tr>\n",
       "    <tr>\n",
       "      <th>684</th>\n",
       "      <td>45648</td>\n",
       "      <td>TabPFN</td>\n",
       "      <td>0.881364</td>\n",
       "      <td>0.018242</td>\n",
       "      <td>0.866103</td>\n",
       "      <td>0.020828</td>\n",
       "      <td>0.906212</td>\n",
       "      <td>0.023931</td>\n",
       "      <td>1.060758</td>\n",
       "      <td>0.035002</td>\n",
       "      <td>0.900648</td>\n",
       "      <td>0.022681</td>\n",
       "    </tr>\n",
       "    <tr>\n",
       "      <th>685</th>\n",
       "      <td>45648</td>\n",
       "      <td>XGBoost</td>\n",
       "      <td>0.880758</td>\n",
       "      <td>0.013201</td>\n",
       "      <td>0.866560</td>\n",
       "      <td>0.015759</td>\n",
       "      <td>0.903030</td>\n",
       "      <td>0.021427</td>\n",
       "      <td>1.054091</td>\n",
       "      <td>0.029906</td>\n",
       "      <td>0.897980</td>\n",
       "      <td>0.019553</td>\n",
       "    </tr>\n",
       "  </tbody>\n",
       "</table>\n",
       "<p>686 rows × 12 columns</p>\n",
       "</div>"
      ],
      "text/plain": [
       "     dataset_id               model  accuracy_mean  accuracy_std  \\\n",
       "0             3            CatBoost       0.991797      0.003434   \n",
       "1             3            LightGBM       0.992969      0.003494   \n",
       "2             3  LogisticRegression       0.957031      0.008135   \n",
       "3             3              TabICL       0.993984      0.003257   \n",
       "4             3                TabM       0.993359      0.003120   \n",
       "..          ...                 ...            ...           ...   \n",
       "681       45648  LogisticRegression       0.874091      0.017296   \n",
       "682       45648              TabICL       0.883485      0.015898   \n",
       "683       45648                TabM       0.883788      0.015892   \n",
       "684       45648              TabPFN       0.881364      0.018242   \n",
       "685       45648             XGBoost       0.880758      0.013201   \n",
       "\n",
       "     f1_score_mean  f1_score_std   cr_mean    cr_std  mwc_mean   mwc_std  \\\n",
       "0         0.991798      0.003433  0.902891  0.016484  0.904453  0.016216   \n",
       "1         0.992969      0.003494  0.899062  0.018698  0.900469  0.018572   \n",
       "2         0.957024      0.008140  0.899375  0.015808  0.913672  0.016682   \n",
       "3         0.993984      0.003257  0.901719  0.013507  0.903047  0.013205   \n",
       "4         0.993359      0.003121  0.900938  0.016763  0.902266  0.016547   \n",
       "..             ...           ...       ...       ...       ...       ...   \n",
       "681       0.865761      0.018681  0.900455  0.026984  1.062424  0.038612   \n",
       "682       0.866966      0.019943  0.905303  0.023055  1.055303  0.032576   \n",
       "683       0.867345      0.020524  0.903485  0.028072  1.043182  0.035623   \n",
       "684       0.866103      0.020828  0.906212  0.023931  1.060758  0.035002   \n",
       "685       0.866560      0.015759  0.903030  0.021427  1.054091  0.029906   \n",
       "\n",
       "     sscs_mean  sscs_std  \n",
       "0     0.000000  0.000000  \n",
       "1     0.000000  0.000000  \n",
       "2     0.000000  0.000000  \n",
       "3     0.000000  0.000000  \n",
       "4     0.000000  0.000000  \n",
       "..         ...       ...  \n",
       "681   0.894557  0.025066  \n",
       "682   0.900304  0.021533  \n",
       "683   0.813672  0.279122  \n",
       "684   0.900648  0.022681  \n",
       "685   0.897980  0.019553  \n",
       "\n",
       "[686 rows x 12 columns]"
      ]
     },
     "execution_count": 2,
     "metadata": {},
     "output_type": "execute_result"
    }
   ],
   "source": [
    "import os\n",
    "import numpy as np\n",
    "import pandas as pd\n",
    "\n",
    "# results = pd.concat([pd.read_csv(f'results/{file}') for file in os.listdir('results') if file.endswith('.csv') and file != 'raw.csv'], ignore_index=True)\n",
    "results = pd.read_csv('results/raw.csv')\n",
    "\n",
    "res = results[[\"dataset_id\", \"seed\", \"model\", \"accuracy\", \"f1_score\", \"cr\", \"mwc\", \"sscs\"]].sort_values(by=[\"dataset_id\", \"seed\", \"model\"]).reset_index(drop=True)\n",
    "metric_cols = [\"accuracy\", \"f1_score\", \"cr\", \"mwc\", \"sscs\"]\n",
    "\n",
    "res[metric_cols] = res[metric_cols].apply(pd.to_numeric, errors=\"coerce\")\n",
    "summary = res.groupby([\"dataset_id\", \"model\"])[metric_cols].agg(['mean', 'std']).reset_index()\n",
    "\n",
    "summary.columns = [\"_\".join([x for x in col if x]).strip() if isinstance(col, tuple) else col for col in summary.columns]\n",
    "summary"
   ]
  },
  {
   "cell_type": "code",
   "execution_count": 24,
   "id": "729f18a8",
   "metadata": {},
   "outputs": [
    {
     "data": {
      "text/plain": [
       "59"
      ]
     },
     "execution_count": 24,
     "metadata": {},
     "output_type": "execute_result"
    }
   ],
   "source": [
    "len(np.unique(results[\"dataset_id\"]))"
   ]
  },
  {
   "cell_type": "code",
   "execution_count": 19,
   "id": "9c60672b",
   "metadata": {},
   "outputs": [
    {
     "data": {
      "text/plain": [
       "57"
      ]
     },
     "execution_count": 19,
     "metadata": {},
     "output_type": "execute_result"
    }
   ],
   "source": [
    "(results.shape[0] - 14) // 140"
   ]
  },
  {
   "cell_type": "code",
   "execution_count": 83,
   "id": "9fc6a064",
   "metadata": {},
   "outputs": [
    {
     "data": {
      "text/plain": [
       "((154, 13), (140, 13))"
      ]
     },
     "execution_count": 83,
     "metadata": {},
     "output_type": "execute_result"
    }
   ],
   "source": [
    "results[results[\"dataset_id\"] == 1487].shape, results[results[\"dataset_id\"] == 45075].shape"
   ]
  },
  {
   "cell_type": "code",
   "execution_count": 83,
   "id": "a9539ad2",
   "metadata": {},
   "outputs": [
    {
     "name": "stderr",
     "output_type": "stream",
     "text": [
      "The PostScript backend does not support transparency; partially transparent artists will be rendered opaque.\n"
     ]
    },
    {
     "data": {
      "image/png": "[encoded data removed]",
      "text/plain": [
       "<Figure size 1200x1000 with 2 Axes>"
      ]
     },
     "metadata": {},
     "output_type": "display_data"
    }
   ],
   "source": [
    "import pandas as pd\n",
    "import seaborn as sns\n",
    "import matplotlib.pyplot as plt\n",
    "import matplotlib.ticker as mticker\n",
    "import matplotlib.colors as mcolors\n",
    "\n",
    "# Isolate the baseline model results (assuming the model is named 'LogisticRegression' in your data)\n",
    "baseline_model_name = \"LogisticRegression\"\n",
    "metric = \"f1_score\"\n",
    "metric = \"accuracy\"\n",
    "baseline_df = res[res[\"model\"] == baseline_model_name][[\"dataset_id\", \"seed\", metric]].rename(\n",
    "    columns={metric: f\"baseline_{metric}\"}\n",
    ")\n",
    "\n",
    "# Merge baseline metric back into the main results\n",
    "improvement_df = pd.merge(res, baseline_df, on=[\"dataset_id\", \"seed\"])\n",
    "\n",
    "# Calculate the relative metric improvement\n",
    "improvement_df[\"improvement\"] = (improvement_df[metric] - improvement_df[f\"baseline_{metric}\"])\n",
    "\n",
    "# Filter out the baseline model itself from the plot\n",
    "plot_df = improvement_df[improvement_df[\"model\"] != baseline_model_name]\n",
    "\n",
    "# Calculate the median improvement for each model to determine the order\n",
    "median_improvement = plot_df.groupby(\"model\")[\"improvement\"].median().sort_values(ascending=False)\n",
    "model_order = median_improvement.index\n",
    "\n",
    "# --- Create Custom Palette based on mean 'cr' ---\n",
    "# Calculate the mean 'cr' for each model\n",
    "mean_cr = plot_df.groupby(\"model\")[\"cr\"].mean().loc[model_order]\n",
    "\n",
    "# Create a normalizer to map 'cr' values to the [0, 1] range\n",
    "norm = mcolors.Normalize(vmin=mean_cr.min(), vmax=mean_cr.max())\n",
    "\n",
    "# Get a colormap (plasma is similar to the example)\n",
    "cmap = plt.get_cmap('plasma')\n",
    "\n",
    "# Create a dictionary mapping each model to a color\n",
    "custom_palette = {model: cmap(norm(cr_val)) for model, cr_val in mean_cr.items()}\n",
    "# --- End Custom Palette ---\n",
    "\n",
    "\n",
    "# Create the horizontal box plot\n",
    "fig, ax = plt.subplots(figsize=(12, 10))\n",
    "sns.boxplot(\n",
    "    ax=ax,\n",
    "    data=plot_df,\n",
    "    y=\"model\",\n",
    "    x=\"improvement\",\n",
    "    orient=\"h\",\n",
    "    order=model_order,  # Order models by median improvement\n",
    "    palette=custom_palette, # Use the custom palette\n",
    "    whis=[5, 95], # Adjust whiskers to show 5th and 95th percentiles\n",
    "    showfliers=True, # Show outliers\n",
    "    hue=\"model\", # Add hue for better color distinction (optional)\n",
    "    legend=False,\n",
    "    medianprops={'color': 'red', 'linewidth': 2}, \n",
    ")\n",
    "\n",
    "# Add a vertical line at 0 for reference\n",
    "ax.axvline(0, color=\"black\", linestyle=\"--\", zorder=10)\n",
    "\n",
    "# --- Add Colorbar ---\n",
    "sm = plt.cm.ScalarMappable(cmap=cmap, norm=norm)\n",
    "sm.set_array([])\n",
    "cbar = fig.colorbar(sm, ax=ax, orientation='horizontal', pad=0.1, shrink=0.6, aspect=30)\n",
    "cbar.set_label('Mean Coverage Rate (cr)')\n",
    "# --- End Colorbar ---\n",
    "\n",
    "# Formatting\n",
    "ax.set_title(f\"Relative Accuracy Improvement over {baseline_model_name}\")\n",
    "ax.set_xlabel(\"Relative Accuracy Improvement\")\n",
    "ax.set_ylabel(\"Model\")\n",
    "ax.xaxis.set_major_formatter(mticker.PercentFormatter(xmax=1.0))\n",
    "ax.grid(axis='x', linestyle='--', alpha=0.6)\n",
    "plt.tight_layout()\n",
    "plt.savefig(f\"improvement_over_{baseline_model_name}_{metric}.png\", dpi=300)\n",
    "plt.savefig(f\"improvement_over_{baseline_model_name}_{metric}.eps\", dpi=300)\n",
    "plt.show()"
   ]
  }
 ],
 "metadata": {
  "kernelspec": {
   "display_name": "tab-fraud",
   "language": "python",
   "name": "python3"
  },
  "language_info": {
   "codemirror_mode": {
    "name": "ipython",
    "version": 3
   },
   "file_extension": ".py",
   "mimetype": "text/x-python",
   "name": "python",
   "nbconvert_exporter": "python",
   "pygments_lexer": "ipython3",
   "version": "3.11.12"
  }
 },
 "nbformat": 4,
 "nbformat_minor": 5
}
